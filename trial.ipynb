{
 "cells": [
  {
   "cell_type": "code",
   "execution_count": 12,
   "metadata": {},
   "outputs": [],
   "source": [
    "import pandas as pd\n",
    "import numpy as np\n",
    "import sklearn\n",
    "from sklearn.preprocessing import OneHotEncoder"
   ]
  },
  {
   "cell_type": "code",
   "execution_count": null,
   "metadata": {},
   "outputs": [
    {
     "name": "stdout",
     "output_type": "stream",
     "text": [
      "person\n",
      "person\n",
      "cow\n",
      "dog\n",
      "aeroplane\n",
      "person\n",
      "person\n",
      "car\n",
      "car\n",
      "bus\n"
     ]
    },
    {
     "name": "stderr",
     "output_type": "stream",
     "text": [
      "/Users/niccolozenaro/Università/Machine Learning/Explainable AutoEncoder/myenv/lib/python3.13/site-packages/sklearn/utils/validation.py:2732: UserWarning: X has feature names, but OneHotEncoder was fitted without feature names\n",
      "  warnings.warn(\n"
     ]
    }
   ],
   "source": [
    "df = pd.read_csv('Pascal10_1RowPerImage_Concepts_filtered.csv')\n",
    "\n",
    "labels = sorted(df['label'].unique())\n",
    "\n",
    "enc = OneHotEncoder()\n",
    "enc.fit(np.array(labels).reshape(-1, 1))\n",
    "\n",
    "encoded_labels = enc.transform(np.array(df['label']))\n",
    "\n",
    "for i in range(10):\n",
    "    idx = encoded_labels[i].argmax()\n",
    "    print(labels[idx])\n",
    "\n"
   ]
  },
  {
   "cell_type": "code",
   "execution_count": null,
   "metadata": {},
   "outputs": [],
   "source": []
  }
 ],
 "metadata": {
  "kernelspec": {
   "display_name": "myenv",
   "language": "python",
   "name": "python3"
  },
  "language_info": {
   "codemirror_mode": {
    "name": "ipython",
    "version": 3
   },
   "file_extension": ".py",
   "mimetype": "text/x-python",
   "name": "python",
   "nbconvert_exporter": "python",
   "pygments_lexer": "ipython3",
   "version": "3.13.1"
  }
 },
 "nbformat": 4,
 "nbformat_minor": 2
}
